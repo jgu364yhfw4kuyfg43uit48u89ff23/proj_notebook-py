{
  "metadata": {
    "language_info": {
      "codemirror_mode": {
        "name": "python",
        "version": 3
      },
      "file_extension": ".py",
      "mimetype": "text/x-python",
      "name": "python",
      "nbconvert_exporter": "python",
      "pygments_lexer": "ipython3",
      "version": "3.8"
    },
    "kernelspec": {
      "name": "python",
      "display_name": "Python (Pyodide)",
      "language": "python"
    }
  },
  "nbformat_minor": 4,
  "nbformat": 4,
  "cells": [
    {
      "cell_type": "markdown",
      "source": "01 - crie um programa que conte de zero até cinco",
      "metadata": {}
    },
    {
      "cell_type": "code",
      "source": "x = 0 \nwhile (x<=5):\n    print(x)\n    x += 1",
      "metadata": {
        "trusted": true
      },
      "execution_count": 2,
      "outputs": [
        {
          "name": "stdout",
          "text": "0\n1\n2\n3\n4\n5\n",
          "output_type": "stream"
        }
      ]
    },
    {
      "cell_type": "markdown",
      "source": "02 - crie uma lista com cinco nomes e mostre cada um e seus respectivos numeros ",
      "metadata": {}
    },
    {
      "cell_type": "code",
      "source": " nome = []\nnome=[\n    \"Daniel Alves\",\n    \"Rodnei\",\n    \"Nilton\",\n    \"Neymar jr\",\n    \"Ribamar\"]\nx=0\nwhile(x<=4):\n    print(x,nome[x])\n    x += 1\n",
      "metadata": {
        "trusted": true
      },
      "execution_count": 14,
      "outputs": [
        {
          "name": "stdout",
          "text": "0 Daniel Alves\n1 Rodnei\n2 Nilton\n3 Neymar jr\n4 Ribamar\n",
          "output_type": "stream"
        }
      ]
    },
    {
      "cell_type": "markdown",
      "source": "03 - crie uma lista com cinco nomes e organize de modo alfabetico mostrando os seus respectivos numeros ",
      "metadata": {}
    },
    {
      "cell_type": "code",
      "source": "nome = []\nnome=[\n    \"Daniel Alves\",\n    \"Rodnei\",\n    \"Nilton\",\n    \"Neymar jr\",\n    \"Ribamar\"]\nnome.sort()\nx=0\nwhile(x<=4):\n    print(x,nome[x])\n    x += 1",
      "metadata": {
        "trusted": true
      },
      "execution_count": 17,
      "outputs": [
        {
          "name": "stdout",
          "text": "0 Daniel Alves\n1 Neymar jr\n2 Nilton\n3 Ribamar\n4 Rodnei\n",
          "output_type": "stream"
        }
      ]
    },
    {
      "cell_type": "markdown",
      "source": "",
      "metadata": {}
    },
    {
      "cell_type": "code",
      "source": "",
      "metadata": {},
      "execution_count": null,
      "outputs": []
    }
  ]
}