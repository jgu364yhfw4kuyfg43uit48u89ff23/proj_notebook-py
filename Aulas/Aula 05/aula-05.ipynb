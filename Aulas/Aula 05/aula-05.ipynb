{
  "metadata": {
    "language_info": {
      "codemirror_mode": {
        "name": "python",
        "version": 3
      },
      "file_extension": ".py",
      "mimetype": "text/x-python",
      "name": "python",
      "nbconvert_exporter": "python",
      "pygments_lexer": "ipython3",
      "version": "3.8"
    },
    "kernelspec": {
      "name": "python",
      "display_name": "Python (Pyodide)",
      "language": "python"
    }
  },
  "nbformat_minor": 4,
  "nbformat": 4,
  "cells": [
    {
      "cell_type": "markdown",
      "source": "01 - crie uma lista co quatro nomes , quatro endereços e quatro telefones. Mostre a lista de forma formada",
      "metadata": {}
    },
    {
      "cell_type": "code",
      "source": "nome=[\n    \"NEYMAR\",\n    \"kANTE\",\n    \"RIBAMAR\",\n    \"bRUYNE D\",\n]\nidade=[\n    \"17\",\n    \"22\",\n    \"53\",\n    ]\nfone=[\n    \"99940-7070\",\n    \"93729-6060\",\n    \"97425-2020\",\n    \"97242-2034\"\n    ]\nx = 0\nprint(\"{:<12}{:<7}{:<0}\".format(\"Nome\",\"Idade\",\"Telefone\"))\nprint(\"-------------------------\")\nwhile(x<=3):\n    print(\"{:<12}{:<4}{:<0}\".format(nome[x],idade[x],fone[x]))\n    x =+ 1",
      "metadata": {
        "trusted": true
      },
      "execution_count": 2,
      "outputs": [
        {
          "name": "stdout",
          "text": "Nome        Idade  Telefone\n-------------------------\nNEYMARkANTERIBAMARbRUYNE D17  99940-707093729-606097425-202097242-2034\n",
          "output_type": "stream"
        },
        {
          "ename": "<class 'IndexError'>",
          "evalue": "list index out of range",
          "traceback": [
            "\u001b[0;31m---------------------------------------------------------------------------\u001b[0m",
            "\u001b[0;31mIndexError\u001b[0m                                Traceback (most recent call last)",
            "Cell \u001b[0;32mIn [2], line 20\u001b[0m\n\u001b[1;32m     18\u001b[0m \u001b[38;5;28mprint\u001b[39m(\u001b[38;5;124m\"\u001b[39m\u001b[38;5;124m-------------------------\u001b[39m\u001b[38;5;124m\"\u001b[39m)\n\u001b[1;32m     19\u001b[0m \u001b[38;5;28;01mwhile\u001b[39;00m(x\u001b[38;5;241m<\u001b[39m\u001b[38;5;241m=\u001b[39m\u001b[38;5;241m3\u001b[39m):\n\u001b[0;32m---> 20\u001b[0m     \u001b[38;5;28mprint\u001b[39m(\u001b[38;5;124m\"\u001b[39m\u001b[38;5;132;01m{:<12}\u001b[39;00m\u001b[38;5;132;01m{:<4}\u001b[39;00m\u001b[38;5;132;01m{:<0}\u001b[39;00m\u001b[38;5;124m\"\u001b[39m\u001b[38;5;241m.\u001b[39mformat(\u001b[43mnome\u001b[49m\u001b[43m[\u001b[49m\u001b[43mx\u001b[49m\u001b[43m]\u001b[49m,idade[x],fone[x]))\n\u001b[1;32m     21\u001b[0m     x \u001b[38;5;241m=\u001b[39m\u001b[38;5;241m+\u001b[39m \u001b[38;5;241m1\u001b[39m\n",
            "\u001b[0;31mIndexError\u001b[0m: list index out of range"
          ],
          "output_type": "error"
        }
      ]
    },
    {
      "cell_type": "markdown",
      "source": "02 - Crie um programa que mostre tres endereços tres numeros , tres birros e tres cidades",
      "metadata": {}
    },
    {
      "cell_type": "code",
      "source": "Endereco = [\n    \"Syntax\",\n    \"Eraldo rosa\",\n    \"Armin\"\n    ]\nNumero = [\n   \"17\",\n   \"22\",\n   \"51\"\n    ]\nBairro = [\n    \"Favela do Jacinto\",\n    \"AlphaVELA\",\n    \"são judas\"\n    ]\nCidade = [\n    \"Vila da folha\",\n    \"Alphavile CITY\",\n    \"Salto\"\n    ]\nprint(\"{:<12}{:<6}{:<3}{:<0}\".format(\"Endereco\",\"Numero\",\"Bairro\",\"cidade\"))\nprint(\"-------------------------------------------------\")\nx = 0\nwhile(x<=2):\n    print(\"{:<12}{:<6}{:<3}{:<0}\".format(Endereco[x],Numero[x],Bairro[x],cidade[x]))\n    x += 1",
      "metadata": {
        "trusted": true
      },
      "execution_count": null,
      "outputs": []
    },
    {
      "cell_type": "code",
      "source": "",
      "metadata": {},
      "execution_count": null,
      "outputs": []
    },
    {
      "cell_type": "code",
      "source": "",
      "metadata": {},
      "execution_count": null,
      "outputs": []
    },
    {
      "cell_type": "code",
      "source": "",
      "metadata": {},
      "execution_count": null,
      "outputs": []
    },
    {
      "cell_type": "code",
      "source": "",
      "metadata": {},
      "execution_count": null,
      "outputs": []
    }
  ]
}