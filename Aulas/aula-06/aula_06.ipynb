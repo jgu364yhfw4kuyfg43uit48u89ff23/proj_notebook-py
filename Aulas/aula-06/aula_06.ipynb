{
  "metadata": {
    "language_info": {
      "codemirror_mode": {
        "name": "python",
        "version": 3
      },
      "file_extension": ".py",
      "mimetype": "text/x-python",
      "name": "python",
      "nbconvert_exporter": "python",
      "pygments_lexer": "ipython3",
      "version": "3.8"
    },
    "kernelspec": {
      "name": "python",
      "display_name": "Python (Pyodide)",
      "language": "python"
    }
  },
  "nbformat_minor": 4,
  "nbformat": 4,
  "cells": [
    {
      "cell_type": "markdown",
      "source": "01 - crie um programa que crie um objeto e um construtor com a pessoa. Adicione em uma lista com quatro pessoas:",
      "metadata": {}
    },
    {
      "cell_type": "code",
      "source": "class pessoa:\n    def __init__(self,nome,ano,marca,placa):\n        self.nome = nome\n        self.idade = ano\n        self.cargo = marca\n        self.salario = placa\ncadastro = []\n\ncadastro.append(pessoa(\"saveiro cross\",\"2015\",\"wolkswager\",\"BDS-1234\"))\ncadastro.append(pessoa(\"celta\",\"2007\",\"toyota\",\"HTP-7909\"))\ncadastro.append(pessoa(\"jetta\",\"2016\",\"Volkswager\",\"HFI-7489\"))\ncadastro.append(pessoa(\"Porshe\",\"2013\",\"ferrari\",\"JGF-4567\"))\n\ncadastro.sort(key = lambda x: x.nome)\n\nfor v in cadastro:\n    print(\"{:<10}{:<4}{:<12{:<0}\",format(v.nome,v.ano,v.marca,v.placa))",
      "metadata": {
        "trusted": true
      },
      "execution_count": 13,
      "outputs": [
        {
          "ename": "<class 'AttributeError'>",
          "evalue": "'pessoa' object has no attribute 'ano'",
          "traceback": [
            "\u001b[0;31m---------------------------------------------------------------------------\u001b[0m",
            "\u001b[0;31mAttributeError\u001b[0m                            Traceback (most recent call last)",
            "Cell \u001b[0;32mIn [13], line 17\u001b[0m\n\u001b[1;32m     14\u001b[0m cadastro\u001b[38;5;241m.\u001b[39msort(key \u001b[38;5;241m=\u001b[39m \u001b[38;5;28;01mlambda\u001b[39;00m x: x\u001b[38;5;241m.\u001b[39mnome)\n\u001b[1;32m     16\u001b[0m \u001b[38;5;28;01mfor\u001b[39;00m v \u001b[38;5;129;01min\u001b[39;00m cadastro:\n\u001b[0;32m---> 17\u001b[0m     \u001b[38;5;28mprint\u001b[39m(\u001b[38;5;124m\"\u001b[39m\u001b[38;5;132;01m{:<10}\u001b[39;00m\u001b[38;5;132;01m{:<4}\u001b[39;00m\u001b[38;5;124m{\u001b[39m\u001b[38;5;124m:<12\u001b[39m\u001b[38;5;132;01m{:<0}\u001b[39;00m\u001b[38;5;124m\"\u001b[39m,\u001b[38;5;28mformat\u001b[39m(v\u001b[38;5;241m.\u001b[39mnome,\u001b[43mv\u001b[49m\u001b[38;5;241;43m.\u001b[39;49m\u001b[43mano\u001b[49m,v\u001b[38;5;241m.\u001b[39mmarca,v\u001b[38;5;241m.\u001b[39mplaca))\n",
            "\u001b[0;31mAttributeError\u001b[0m: 'pessoa' object has no attribute 'ano'"
          ],
          "output_type": "error"
        }
      ]
    },
    {
      "cell_type": "markdown",
      "source": "02 - crie um programa com ua classe onde possua , modelo, marca, ano,placa,.Adicione tres carros.",
      "metadata": {}
    },
    {
      "cell_type": "code",
      "source": "",
      "metadata": {},
      "execution_count": null,
      "outputs": []
    }
  ]
}